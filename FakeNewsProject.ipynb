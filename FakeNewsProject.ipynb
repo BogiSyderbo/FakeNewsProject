{
 "cells": [
  {
   "cell_type": "markdown",
   "metadata": {},
   "source": [
    "# Fake News Project\n",
    "The goal of this project is to create a fake news prediction system. Fake news is a major problem that can have serious negative effects on how people understand the world around them. You will work with a dataset containing real and fake news in order to train a simple and a more advanced classifier to solve this problem. This project covers the full Data Science pipeline, from data processing, to modelling, to visualization and interpretation.\n",
    "## Part 1 Data Processing"
   ]
  },
  {
   "cell_type": "markdown",
   "metadata": {},
   "source": [
    "### Task 1"
   ]
  },
  {
   "cell_type": "code",
   "execution_count": null,
   "metadata": {},
   "outputs": [],
   "source": [
    "import pandas as pd \n",
    "df = pd.read_csv(\"news_sample.csv\")\n",
    "dfcpy = df.copy()\n",
    "dfcpy = dfcpy.dropna(subset=['content'])"
   ]
  },
  {
   "cell_type": "code",
   "execution_count": null,
   "metadata": {},
   "outputs": [],
   "source": [
    "import nltk\n",
    "nltk.download('punkt')\n",
    "nltk.download('stopwords')"
   ]
  },
  {
   "cell_type": "code",
   "execution_count": null,
   "metadata": {},
   "outputs": [],
   "source": [
    "import re\n",
    "import nltk\n",
    "from nltk.tokenize.regexp import RegexpTokenizer\n",
    "from nltk.stem import PorterStemmer\n",
    "from nltk.probability import FreqDist\n",
    "from cleantext import clean\n",
    "\n",
    "\n",
    "def clean_text(text):\n",
    "  clean_text = re.sub(r'([A-Z][A-z]+.?) ([0-9]{1,2}?), ([0-9]{4})', '<DATE>', text)\n",
    "  clean_text = clean(clean_text,\n",
    "    lower=True,\n",
    "    no_urls=True, replace_with_url=\"<URL>\",\n",
    "    no_emails=True, replace_with_email=\"<EMAIL>\",\n",
    "    no_numbers=True, replace_with_number= r\"<NUM>\",\n",
    "    no_currency_symbols=True, replace_with_currency_symbol=\"<CUR>\",\n",
    "    no_punct=True, replace_with_punct=\"\",\n",
    "    no_line_breaks=True \n",
    "  )\n",
    "  return clean_text\n",
    "\n",
    "def rmv_stopwords(tokens):\n",
    "  stop_words = set(nltk.corpus.stopwords.words('english'))\n",
    "  tokens = [word for word in tokens if word not in stop_words]\n",
    "  return tokens\n",
    "\n",
    "def stem_tokens(tokens):\n",
    "  stemmer=PorterStemmer()\n",
    "  Output=[stemmer.stem(word) for word in tokens]\n",
    "  return Output\n",
    "\n",
    "# build a vocabulary from a dataframe with list of tokens\n",
    "def build_vocabulary(df_tokens):\n",
    "    # Flatten the list of tokens\n",
    "  tokens = []\n",
    "  for lst in df_tokens:\n",
    "    tokens += lst\n",
    "  fq = FreqDist(tokens)\n",
    "  return fq"
   ]
  },
  {
   "cell_type": "code",
   "execution_count": null,
   "metadata": {},
   "outputs": [],
   "source": [
    "dfcpy = df.copy()\n",
    "\n",
    "dfcpy.content = dfcpy.content.apply(clean_text)\n",
    "\n",
    "tokenizer = RegexpTokenizer(r'<[\\w]+>|[\\w]+')\n",
    "dfcpy[\"tokenized\"] = dfcpy.content.apply(tokenizer.tokenize)\n",
    "\n",
    "vocab = build_vocabulary(dfcpy.tokenized)\n",
    "vocab_size = vocab.B()\n",
    "print(\"After cleaning:\")\n",
    "print(f\"vocabulary size: {vocab_size}\\n\")\n",
    "\n",
    "dfcpy.tokenized = dfcpy.tokenized.apply(rmv_stopwords)\n",
    "vocab = build_vocabulary(dfcpy.tokenized)\n",
    "# reduction rate of the vocabulary size\n",
    "reduction = ((vocab_size - vocab.B())/vocab_size)*100\n",
    "vocab_size = vocab.B()\n",
    "print(\"After removing stopwords:\")\n",
    "print(f\"vocabulary size: {vocab_size}\")\n",
    "print(f\"reduction rate of the vocabulary size: {reduction:.2f}%\\n\")\n",
    "\n",
    "dfcpy.tokenized = dfcpy.tokenized.apply(stem_tokens)\n",
    "vocab = build_vocabulary(dfcpy.tokenized)\n",
    "reduction = ((vocab_size - vocab.B())/vocab_size)*100\n",
    "vocab_size = vocab.B()\n",
    "print(\"After stemming:\")\n",
    "print(f\"vocabulary size: {vocab_size}\")\n",
    "print(f\"reduction rate of the vocabulary size: {reduction:.2f}%\\n\")"
   ]
  },
  {
   "cell_type": "markdown",
   "metadata": {},
   "source": [
    "\n",
    "1. counting the number of URLs in the content\n",
    "2. counting the number of dates in the content\n",
    "3. counting the number of numeric values in the content\n",
    "4. determining the 100 more frequent words that appear in the content\n",
    "5. plot the frequency of the 10000 most frequent words (any interesting patterns?)\n",
    "6. run the analysis in point 4 and 5 both before and after removing stopwords and applying stemming: do you see any difference?\n"
   ]
  },
  {
   "cell_type": "code",
   "execution_count": null,
   "metadata": {},
   "outputs": [],
   "source": [
    "#pip install \"modin[ray]\" (only works in python 3.10)\n",
    "import modin.pandas as pd"
   ]
  },
  {
   "cell_type": "code",
   "execution_count": null,
   "metadata": {},
   "outputs": [],
   "source": [
    "df = pd.read_csv(\"995,000_rows.csv\", usecols=['content', 'type', 'url', 'title', 'authors', 'domain'], engine='c', dtype = str)\n",
    "dfcpy = df.copy()\n",
    "dfcpy = dfcpy.dropna(subset=['content'])\n",
    "dfcpy = dfcpy.dropna(subset=['type'])"
   ]
  },
  {
   "cell_type": "code",
   "execution_count": null,
   "metadata": {},
   "outputs": [],
   "source": [
    "import matplotlib.pyplot as plt\n",
    "import seaborn as sns\n",
    "# plot the frequency of the top n words\n",
    "def plot_freq(fq, top_n):\n",
    "  common_words = fq.most_common(top_n)\n",
    "\n",
    "  all_freq = dict(common_words)\n",
    "\n",
    "  plt.figure(figsize = (top_n*0.1, 5))\n",
    "  plt.xticks(rotation = 90,fontsize = 5)\n",
    "  sns.lineplot(x = list(all_freq.keys()), y = list(all_freq.values()), color = 'red')\n",
    "  sns.barplot(x = list(all_freq.keys()), y = list(all_freq.values()))\n",
    "  plt.title(f'Top {top_n} most common words')\n",
    "  plt.xlabel('Words')\n",
    "  plt.ylabel('Frequency')\n",
    "  plt.grid(axis = 'y')\n",
    "  plt.show()\n",
    "  return"
   ]
  },
  {
   "cell_type": "code",
   "execution_count": null,
   "metadata": {},
   "outputs": [],
   "source": [
    "dfcpy.content = dfcpy.content.apply(clean_text)"
   ]
  },
  {
   "cell_type": "code",
   "execution_count": null,
   "metadata": {},
   "outputs": [],
   "source": [
    "tokenizer = RegexpTokenizer(r'<[\\w]+>|[\\w]+')\n",
    "dfcpy[\"tokenized\"] = dfcpy.content.apply(tokenizer.tokenize)\n"
   ]
  },
  {
   "cell_type": "code",
   "execution_count": null,
   "metadata": {},
   "outputs": [],
   "source": [
    "dfcpy.tokenized = dfcpy.tokenized.apply(rmv_stopwords)"
   ]
  },
  {
   "cell_type": "code",
   "execution_count": null,
   "metadata": {},
   "outputs": [],
   "source": [
    "dfcpy.tokenized = dfcpy.tokenized.apply(stem_tokens)"
   ]
  },
  {
   "cell_type": "markdown",
   "metadata": {},
   "source": [
    "## Data exploration"
   ]
  },
  {
   "cell_type": "code",
   "execution_count": null,
   "metadata": {},
   "outputs": [],
   "source": [
    "vocab = build_vocabulary(dfcpy.tokenized)"
   ]
  },
  {
   "cell_type": "code",
   "execution_count": null,
   "metadata": {},
   "outputs": [],
   "source": [
    "def plot_domain_with_type(df):\n",
    "  top_domains = df.domain.value_counts().head(20).index\n",
    "  df = df[df.domain.isin(top_domains)]\n",
    "  df = df.groupby(['domain', 'type']).size().unstack().fillna(0)\n",
    "\n",
    "  df.plot(kind='bar', stacked=True, figsize=(10,5), title='Domain distribution with types')\n",
    "  plt.show()\n",
    "  return\n",
    "\n",
    "\n",
    "num_freq = vocab.get(\"<num>\",0)\n",
    "plot_freq(vocab, 100)\n",
    "\n",
    "# top 20 domains with their types\n",
    "plot_domain_with_type(dfcpy)\n",
    "\n",
    "# pie chart for the distribution of the types\n",
    "dfcpy.type.value_counts().plot.pie(autopct='%1.1f%%', figsize=(10,5), title='Types distribution')\n",
    "plt.show()\n",
    "\n",
    "# ammount of dropped rows\n",
    "print(f\"Number of dropped rows: {df.shape[0] - dfcpy.shape[0]}\")"
   ]
  },
  {
   "cell_type": "code",
   "execution_count": null,
   "metadata": {},
   "outputs": [],
   "source": [
    "dfcpy.tokenized = dfcpy.tokenized.apply(lambda x: ' '.join(x))\n",
    "dfcpy.to_csv('cleaned_news.csv', index=False)"
   ]
  },
  {
   "cell_type": "markdown",
   "metadata": {},
   "source": [
    "# Task 4"
   ]
  },
  {
   "cell_type": "code",
   "execution_count": 1,
   "metadata": {},
   "outputs": [
    {
     "name": "stdout",
     "output_type": "stream",
     "text": [
      "Training Set:\n",
      "242324    <num> views0 like <url> resid visitor greet ne...\n",
      "156478    deposit rs <num> lakh quot pan mandatori say c...\n",
      "895410    team finnish american biologist report identif...\n",
      "562228    kevin durant penetr paint finish tough layup w...\n",
      "509352    updat fantasi footbal preseason run back rank ...\n",
      "Name: tokenized, dtype: object\n"
     ]
    }
   ],
   "source": [
    "import pandas as pd\n",
    "import numpy as np\n",
    "import matplotlib.pyplot as plt\n",
    "from sklearn.model_selection import train_test_split\n",
    "\n",
    "df = pd.read_csv('cleaned_news.csv', usecols=['tokenized', 'type'], engine='c', dtype = str)\n",
    "dfcpy = df.copy()\n",
    "# label is 1 if the article is fake, 0 if the article is reliable\n",
    "dfcpy['label'] = dfcpy['type'].map({'fake': 1, 'conspiracy': 1, 'junksci': 1, 'bias': 1, 'clickbait': 0, 'political': 0, 'reliable': 0})\n",
    "dfcpy = dfcpy.dropna(subset=['label'])\n",
    "dfcpy['label'] = dfcpy['label'].astype(int)\n",
    "\n",
    "X = dfcpy['tokenized']\n",
    "y = dfcpy['label']\n",
    "X.dropna(inplace=True)\n",
    "y = y.loc[X.index]\n",
    "\n",
    "\n",
    "train_ratio = 0.80\n",
    "validation_ratio = 0.10\n",
    "test_ratio = 0.10\n",
    "\n",
    "x_train, x_test, y_train, y_test = train_test_split(X, y, test_size = 1 - train_ratio, random_state = 42) \n",
    "x_val, x_test, y_val, y_test = train_test_split(x_test, y_test, test_size= test_ratio / (test_ratio + validation_ratio), random_state = 42)\n",
    "\n",
    "print(\"Training Set:\")\n",
    "print(x_train.head())\n"
   ]
  },
  {
   "cell_type": "code",
   "execution_count": 2,
   "metadata": {},
   "outputs": [
    {
     "data": {
      "image/png": "[encoded data removed]",
      "text/plain": [
       "<Figure size 640x480 with 1 Axes>"
      ]
     },
     "metadata": {},
     "output_type": "display_data"
    }
   ],
   "source": [
    "# Examine the percentage distribution of 'reliable' vs. 'fake' articles\n",
    "grouped_type = dfcpy['label'].value_counts()\n",
    "grouped_type = grouped_type / grouped_type.sum() * 100\n",
    "\n",
    "# make a bar plot with percentages on bars\n",
    "plt.bar([0, 1], grouped_type, tick_label=['Reliable', 'Fake'], color=['blue', 'red'])\n",
    "plt.text(0, grouped_type[0], f'{grouped_type[0]:.2f}%', ha='center', va='bottom')\n",
    "plt.text(1, grouped_type[1], f'{grouped_type[1]:.2f}%', ha='center', va='bottom')\n",
    "plt.xlabel('Article Type')\n",
    "plt.ylabel('Percentage')\n",
    "plt.title('Percentage Distribution of Reliable vs. Fake Articles')\n",
    "plt.show()"
   ]
  },
  {
   "cell_type": "code",
   "execution_count": 2,
   "metadata": {},
   "outputs": [],
   "source": [
    "# import sklearn.metrics as metrics\n",
    "# import seaborn as sns\n",
    "# def evaluate_model(y_val, y_pred):\n",
    "#     # Confusion matrix\n",
    "#     confusion_matrix = metrics.confusion_matrix(y_val, y_pred, labels=[1, 0])\n",
    "#     sns.heatmap(confusion_matrix, annot=True, fmt='g', cmap='Blues', xticklabels=['fake', 'real'], yticklabels=['fake', 'real'])\n",
    "\n",
    "#     accuracy = metrics.accuracy_score(y_val, y_pred)\n",
    "#     f1 = metrics.f1_score(y_val, y_pred)\n",
    "#     print(\"f1 score:\", f1)\n",
    "#     print(\"accuracy:\", accuracy)"
   ]
  },
  {
   "cell_type": "markdown",
   "metadata": {},
   "source": [
    "# Part 2: A simple model"
   ]
  },
  {
   "cell_type": "code",
   "execution_count": 10,
   "metadata": {},
   "outputs": [
    {
     "name": "stdout",
     "output_type": "stream",
     "text": [
      "              precision    recall  f1-score   support\n",
      "\n",
      "        fake       0.88      0.90      0.89     44165\n",
      "        real       0.87      0.85      0.86     34831\n",
      "\n",
      "    accuracy                           0.88     78996\n",
      "   macro avg       0.87      0.87      0.87     78996\n",
      "weighted avg       0.87      0.88      0.87     78996\n",
      "\n",
      "f1 score: 0.8566113420341249\n",
      "accuracy: 0.8751076003848296\n"
     ]
    },
    {
     "data": {
      "image/png": "[encoded data removed]",
      "text/plain": [
       "<Figure size 640x480 with 2 Axes>"
      ]
     },
     "metadata": {},
     "output_type": "display_data"
    }
   ],
   "source": [
    "from sklearn.preprocessing import StandardScaler\n",
    "from sklearn.feature_extraction.text import TfidfVectorizer\n",
    "from sklearn.linear_model import LogisticRegression\n",
    "from sklearn.pipeline import Pipeline\n",
    "import sklearn.metrics as metrics\n",
    "\n",
    "pipeline = Pipeline([\n",
    "    ('vectorizer', TfidfVectorizer(lowercase = False,\n",
    "                                   max_features = 10000, \n",
    "                                   token_pattern=r'<[\\w]+>|[\\w]+')), \n",
    "    ('scaler', StandardScaler(with_mean=False))\n",
    "    ])\n",
    "\n",
    "\n",
    "X_train_TFIDF = pipeline.fit_transform(x_train, y_train) \n",
    "X_val_TFIDF = pipeline.transform(x_val)\n",
    "X_test_TFIDF = pipeline.transform(x_test)\n",
    "\n",
    "model = LogisticRegression(max_iter=10000)\n",
    "model.fit(X_train_TFIDF, y_train)\n",
    "\n",
    "y_pred = model.predict(X_val_TFIDF)\n",
    "accuracy = metrics.accuracy_score(y_val, y_pred)\n",
    "f1 = metrics.f1_score(y_val, y_pred)\n",
    "print(\"f1 score:\", f1)\n",
    "print(\"accuracy:\", accuracy)"
   ]
  },
  {
   "cell_type": "markdown",
   "metadata": {},
   "source": [
    "# Part 3: Advanced model"
   ]
  },
  {
   "cell_type": "markdown",
   "metadata": {},
   "source": [
    "3 models: \n",
    "- LinearSVM\n",
    "- Naive bayes\n",
    "- Random forrest\n",
    "\n",
    "2 vector representations:\n",
    "- TF-IDF, 2 grams\n",
    "- Word embedding (word2vec)\n",
    "\n",
    "We perfrom cross validation on hyper paramaters to find the best hyperparameters for each model "
   ]
  },
  {
   "cell_type": "markdown",
   "metadata": {},
   "source": [
    "## Vectorization"
   ]
  },
  {
   "cell_type": "markdown",
   "metadata": {},
   "source": [
    "###  TF-IDF vectorizer"
   ]
  },
  {
   "cell_type": "code",
   "execution_count": 4,
   "metadata": {},
   "outputs": [],
   "source": [
    "from sklearn.preprocessing import StandardScaler\n",
    "from sklearn.feature_extraction.text import TfidfVectorizer\n",
    "from sklearn.pipeline import Pipeline\n",
    "\n",
    "\n",
    "def make_TFIDF(x_train, y_train, x_val, x_test, features, ngrams):\n",
    "    pipeline = Pipeline([\n",
    "    ('vectorizer', TfidfVectorizer(lowercase = False, \n",
    "                                   max_features=features, \n",
    "                                   min_df = 10, \n",
    "                                   max_df= 0.9, \n",
    "                                   token_pattern=r'<[\\w]+>|[\\w]+',\n",
    "                                   ngram_range =  ngrams)),\n",
    "    ('scaler', StandardScaler(with_mean=False)),\n",
    "    ])\n",
    "    X_train_TFIDF = pipeline.fit_transform(x_train, y_train) \n",
    "    X_val_TFIDF = pipeline.transform(x_val)\n",
    "    X_test_TFIDF = pipeline.transform(x_test)\n",
    "    return X_train_TFIDF, X_val_TFIDF, X_test_TFIDF\n"
   ]
  },
  {
   "cell_type": "markdown",
   "metadata": {},
   "source": [
    "### Word2Vec"
   ]
  },
  {
   "cell_type": "code",
   "execution_count": null,
   "metadata": {},
   "outputs": [],
   "source": [
    "from sklearn.pipeline import Pipeline\n",
    "from gensim.models import Word2Vec\n",
    "from tensorflow.keras.preprocessing.text import Tokenizer\n",
    "import numpy as np\n",
    "# word embedding\n",
    "w2v_model = Word2Vec(sentences=x_train, vector_size=1000, window=5, min_count=1)\n",
    "\n",
    "tokenizer = Tokenizer()\n",
    "tokenizer.fit_on_texts(x_train)\n",
    "\n",
    "def get_weight_matrix(model, vocab):\n",
    "    weight_matrix = np.zeros((len(vocab)+1, 100))\n",
    "    for word, i in vocab.items():\n",
    "        if word in model.wv:\n",
    "            weight_matrix[i] = model.wv.get_vector(word)\n",
    "    return weight_matrix\n",
    "\n",
    "pipeline_w2v = Pipeline([\n",
    "    ('tokenizer', Tokenizer()),\n",
    "    ('vectorizer', get_weight_matrix(w2v_model, tokenizer.word_index))\n",
    "])\n",
    "\n",
    "X_train_W2V = pipeline_w2v.fit_transform(x_train)\n",
    "X_val_W2V = pipeline_w2v.transform(x_val)\n",
    "X_test_W2V = pipeline_w2v.transform(x_test)\n",
    "\n"
   ]
  },
  {
   "cell_type": "markdown",
   "metadata": {},
   "source": [
    "## Model 1: Linear SVC "
   ]
  },
  {
   "cell_type": "code",
   "execution_count": 5,
   "metadata": {},
   "outputs": [],
   "source": [
    "from sklearn.svm import LinearSVC\n",
    "from sklearn.model_selection import GridSearchCV\n",
    "import sklearn.metrics as metrics\n",
    "\n",
    "def svc_advanced(x_train, y_train, x_val):\n",
    "    svc = LinearSVC(dual=False, max_iter=10000) \n",
    "    parameters = dict(C=[0.001 ,0.1, 1], tol=[1e-3, 0.1, 1])\n",
    "    # Cross-validation\n",
    "    grid_search = GridSearchCV(svc, parameters, cv=3, n_jobs=19, scoring = 'f1')\n",
    "    grid_search.fit(x_train, y_train)\n",
    "\n",
    "    best_params = grid_search.best_params_\n",
    "    print(\"Best Parameters:\", best_params)\n",
    "    \n",
    "    return grid_search.predict(x_val)"
   ]
  },
  {
   "cell_type": "markdown",
   "metadata": {},
   "source": [
    "### TF-IDF "
   ]
  },
  {
   "cell_type": "code",
   "execution_count": 6,
   "metadata": {},
   "outputs": [
    {
     "name": "stdout",
     "output_type": "stream",
     "text": [
      "Best Parameters: {'C': 1, 'tol': 0.001}\n",
      "              precision    recall  f1-score   support\n",
      "\n",
      "        fake       0.88      0.91      0.89     44165\n",
      "        real       0.88      0.85      0.86     34831\n",
      "\n",
      "    accuracy                           0.88     78996\n",
      "   macro avg       0.88      0.88      0.88     78996\n",
      "weighted avg       0.88      0.88      0.88     78996\n",
      "\n",
      "f1 score: 0.8630817894261184\n",
      "accuracy: 0.8810952453288774\n"
     ]
    },
    {
     "data": {
      "image/png": "[encoded data removed]",
      "text/plain": [
       "<Figure size 640x480 with 2 Axes>"
      ]
     },
     "metadata": {},
     "output_type": "display_data"
    }
   ],
   "source": [
    "import sklearn.metrics as metrics\n",
    "X_train_TFIDF, X_val_TFIDF, X_test_TFIDF = make_TFIDF(x_train, \n",
    "                                                      y_train, \n",
    "                                                      x_val, \n",
    "                                                      x_test, \n",
    "                                                      10000, \n",
    "                                                      (1,1)) \n",
    "y_pred = svc_advanced(X_train_TFIDF, y_train, X_val_TFIDF)\n",
    "accuracy = metrics.accuracy_score(y_val, y_pred)\n",
    "f1 = metrics.f1_score(y_val, y_pred)\n",
    "print(\"f1 score:\", f1)\n",
    "print(\"accuracy:\", accuracy)"
   ]
  },
  {
   "cell_type": "code",
   "execution_count": 7,
   "metadata": {},
   "outputs": [
    {
     "name": "stdout",
     "output_type": "stream",
     "text": [
      "Best Parameters: {'C': 0.1, 'tol': 0.001}\n",
      "              precision    recall  f1-score   support\n",
      "\n",
      "        fake       0.89      0.91      0.90     44165\n",
      "        real       0.88      0.85      0.87     34831\n",
      "\n",
      "    accuracy                           0.89     78996\n",
      "   macro avg       0.89      0.88      0.88     78996\n",
      "weighted avg       0.89      0.89      0.89     78996\n",
      "\n",
      "f1 score: 0.8687222611539359\n",
      "accuracy: 0.8861714517190744\n"
     ]
    },
    {
     "data": {
      "image/png": "[encoded data removed]",
      "text/plain": [
       "<Figure size 640x480 with 2 Axes>"
      ]
     },
     "metadata": {},
     "output_type": "display_data"
    }
   ],
   "source": [
    "import sklearn.metrics as metrics\n",
    "X_train_TFIDF, X_val_TFIDF, X_test_TFIDF = make_TFIDF(x_train, \n",
    "                                                      y_train, \n",
    "                                                      x_val, \n",
    "                                                      x_test, \n",
    "                                                      10000, \n",
    "                                                      (1,2)) \n",
    "y_pred = svc_advanced(X_train_TFIDF, y_train, X_val_TFIDF)\n",
    "accuracy = metrics.accuracy_score(y_val, y_pred)\n",
    "f1 = metrics.f1_score(y_val, y_pred)\n",
    "print(\"f1 score:\", f1)\n",
    "print(\"accuracy:\", accuracy)"
   ]
  },
  {
   "cell_type": "code",
   "execution_count": null,
   "metadata": {},
   "outputs": [],
   "source": [
    "import sklearn.metrics as metrics\n",
    "X_train_TFIDF, X_val_TFIDF, X_test_TFIDF = make_TFIDF(x_train, \n",
    "                                                      y_train, \n",
    "                                                      x_val, \n",
    "                                                      x_test, \n",
    "                                                      10000, \n",
    "                                                      (3,3)) \n",
    "y_pred = svc_advanced(X_train_TFIDF, y_train, X_val_TFIDF)\n",
    "accuracy = metrics.accuracy_score(y_val, y_pred)\n",
    "f1 = metrics.f1_score(y_val, y_pred)\n",
    "print(\"f1 score:\", f1)\n",
    "print(\"accuracy:\", accuracy)"
   ]
  },
  {
   "cell_type": "markdown",
   "metadata": {},
   "source": [
    "### Word2vec"
   ]
  },
  {
   "cell_type": "markdown",
   "metadata": {},
   "source": [
    "## Model 2: Naive bayes"
   ]
  },
  {
   "cell_type": "code",
   "execution_count": null,
   "metadata": {},
   "outputs": [],
   "source": [
    "from sklearn.naive_bayes import MultinomialNB\n",
    "from sklearn.model_selection import GridSearchCV\n",
    "from sklearn.pipeline import Pipeline\n",
    "from sklearn.feature_extraction.text import TfidfVectorizer\n",
    "import sklearn.metrics as metrics\n",
    "\n",
    "def nb_advanced(x_train, y_train, x_val):\n",
    "    nb = MultinomialNB()\n",
    "    parameters = dict(alpha=[0.1, 1, 10])\n",
    "    # Cross-validation\n",
    "    grid_search = GridSearchCV(nb, parameters, cv=3, n_jobs=19, scoring = 'f1')\n",
    "    grid_search.fit(x_train, y_train)\n",
    "\n",
    "    best_params = grid_search.best_params_\n",
    "    print(\"Best Parameters:\", best_params)\n",
    "    \n",
    "    return grid_search.predict(x_val)"
   ]
  },
  {
   "cell_type": "markdown",
   "metadata": {},
   "source": [
    "### TF-IDF"
   ]
  },
  {
   "cell_type": "code",
   "execution_count": null,
   "metadata": {},
   "outputs": [],
   "source": [
    "X_train_TFIDF, X_val_TFIDF, X_test_TFIDF = make_TFIDF(x_train, \n",
    "                                                      y_train, \n",
    "                                                      x_val, \n",
    "                                                      x_test, \n",
    "                                                      None, \n",
    "                                                      (1,1)) \n",
    "y_pred = nb_advanced(X_train_TFIDF, y_train, X_val_TFIDF)\n",
    "accuracy = metrics.accuracy_score(y_val, y_pred)\n",
    "f1 = metrics.f1_score(y_val, y_pred)\n",
    "print(\"f1 score:\", f1)\n",
    "print(\"accuracy:\", accuracy)"
   ]
  },
  {
   "cell_type": "code",
   "execution_count": null,
   "metadata": {},
   "outputs": [],
   "source": [
    "X_train_TFIDF, X_val_TFIDF, X_test_TFIDF = make_TFIDF(x_train, \n",
    "                                                      y_train, \n",
    "                                                      x_val, \n",
    "                                                      x_test, \n",
    "                                                      None, \n",
    "                                                      (1,2)) \n",
    "y_pred = nb_advanced(X_train_TFIDF, y_train, X_val_TFIDF)\n",
    "accuracy = metrics.accuracy_score(y_val, y_pred)\n",
    "f1 = metrics.f1_score(y_val, y_pred)\n",
    "print(\"f1 score:\", f1)\n",
    "print(\"accuracy:\", accuracy)"
   ]
  },
  {
   "cell_type": "code",
   "execution_count": null,
   "metadata": {},
   "outputs": [],
   "source": [
    "X_train_TFIDF, X_val_TFIDF, X_test_TFIDF = make_TFIDF(x_train, \n",
    "                                                      y_train, \n",
    "                                                      x_val, \n",
    "                                                      x_test, \n",
    "                                                      None, \n",
    "                                                      (3,3)) \n",
    "y_pred = nb_advanced(X_train_TFIDF, y_train, X_val_TFIDF)\n",
    "accuracy = metrics.accuracy_score(y_val, y_pred)\n",
    "f1 = metrics.f1_score(y_val, y_pred)\n",
    "print(\"f1 score:\", f1)\n",
    "print(\"accuracy:\", accuracy)"
   ]
  },
  {
   "cell_type": "markdown",
   "metadata": {},
   "source": [
    "### Word2Vec"
   ]
  }
 ],
 "metadata": {
  "kernelspec": {
   "display_name": "my_enviroment",
   "language": "python",
   "name": "python3"
  },
  "language_info": {
   "codemirror_mode": {
    "name": "ipython",
    "version": 3
   },
   "file_extension": ".py",
   "mimetype": "text/x-python",
   "name": "python",
   "nbconvert_exporter": "python",
   "pygments_lexer": "ipython3",
   "version": "3.10.13"
  }
 },
 "nbformat": 4,
 "nbformat_minor": 2
}
