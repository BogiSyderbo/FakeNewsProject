{
 "cells": [
  {
   "cell_type": "markdown",
   "metadata": {},
   "source": [
    "# Fake News Project\n",
    "The goal of this project is to create a fake news prediction system. Fake news is a major problem that can have serious negative effects on how people understand the world around them. You will work with a dataset containing real and fake news in order to train a simple and a more advanced classifier to solve this problem. This project covers the full Data Science pipeline, from data processing, to modelling, to visualization and interpretation.\n",
    "## Part 1 Data Processing"
   ]
  },
  {
   "cell_type": "markdown",
   "metadata": {},
   "source": [
    "### Task 1"
   ]
  },
  {
   "cell_type": "code",
   "execution_count": 72,
   "metadata": {},
   "outputs": [],
   "source": [
    "import pandas as pd \n",
    "df = pd.read_csv(\"news_sample.csv\")\n",
    "dfcpy = df.copy()\n",
    "dfcpy = dfcpy.dropna(subset=['content'])"
   ]
  },
  {
   "cell_type": "code",
   "execution_count": 73,
   "metadata": {},
   "outputs": [],
   "source": [
    "import pandas as pd \n",
    "import re\n",
    "import nltk\n",
    "# nltk.download('punkt')\n",
    "# nltk.download('stopwords')\n",
    "from nltk.tokenize.regexp import RegexpTokenizer\n",
    "from nltk.stem import PorterStemmer\n",
    "from nltk.lm import Vocabulary\n",
    "from nltk.probability import FreqDist\n",
    "from cleantext import clean\n",
    "import concurrent.futures\n",
    "import threading\n",
    "\n",
    "\n",
    "def clean_text(text):\n",
    "  clean_text = re.sub(r'([A-Z][A-z]+.?) ([0-9]{1,2}?), ([0-9]{4})', '<DATE>', text)\n",
    "  clean_text = clean(clean_text,\n",
    "    lower=True,\n",
    "    no_urls=True, replace_with_url=\"<URL>\",\n",
    "    no_emails=True, replace_with_email=\"<EMAIL>\",\n",
    "    no_numbers=True, replace_with_number= r\"<NUM>\",\n",
    "    no_currency_symbols=True, replace_with_currency_symbol=\"<CUR>\",\n",
    "    no_punct=True, replace_with_punct=\"\",\n",
    "    no_line_breaks=True \n",
    "  )\n",
    "  return clean_text\n",
    "\n",
    "def rmv_stopwords(tokens):\n",
    "  stop_words = set(nltk.corpus.stopwords.words('english'))\n",
    "  tokens = [word for word in tokens if word not in stop_words]\n",
    "  return tokens\n",
    "\n",
    "def stem_tokens(tokens):\n",
    "  stemmer=PorterStemmer()\n",
    "  Output=[stemmer.stem(word) for word in tokens]\n",
    "  return Output\n",
    "\n",
    "# build a vocabulary from a dataframe with list of tokens\n",
    "def build_vocabulary(df_tokens):\n",
    "    # Flatten the list of tokens\n",
    "  tokens = []\n",
    "  for lst in df_tokens:\n",
    "    tokens += lst\n",
    "  fq = FreqDist(tokens)\n",
    "  return fq"
   ]
  },
  {
   "cell_type": "code",
   "execution_count": 89,
   "metadata": {},
   "outputs": [
    {
     "name": "stdout",
     "output_type": "stream",
     "text": [
      "After cleaning:\n",
      "vocabulary size: 16577\n",
      "\n",
      "After removing stopwords:\n",
      "vocabulary size: 16445\n",
      "reduction rate of the vocabulary size: 0.80%\n",
      "\n",
      "After stemming:\n",
      "vocabulary size: 11031\n",
      "reduction rate of the vocabulary size: 32.92%\n",
      "\n"
     ]
    }
   ],
   "source": [
    "dfcpy = df.copy()\n",
    "\n",
    "dfcpy.content = dfcpy.content.apply(clean_text)\n",
    "\n",
    "tokenizer = RegexpTokenizer(r'<[\\w]+>|[\\w]+')\n",
    "dfcpy[\"tokenized\"] = dfcpy.content.apply(tokenizer.tokenize)\n",
    "\n",
    "vocab = build_vocabulary(dfcpy.tokenized)\n",
    "vocab_size = vocab.B()\n",
    "print(\"After cleaning:\")\n",
    "print(f\"vocabulary size: {vocab_size}\\n\")\n",
    "\n",
    "dfcpy.tokenized = dfcpy.tokenized.apply(rmv_stopwords)\n",
    "vocab = build_vocabulary(dfcpy.tokenized)\n",
    "# reduction rate of the vocabulary size\n",
    "reduction = ((vocab_size - vocab.B())/vocab_size)*100\n",
    "vocab_size = vocab.B()\n",
    "print(\"After removing stopwords:\")\n",
    "print(f\"vocabulary size: {vocab_size}\")\n",
    "print(f\"reduction rate of the vocabulary size: {reduction:.2f}%\\n\")\n",
    "\n",
    "dfcpy.tokenized = dfcpy.tokenized.apply(stem_tokens)\n",
    "vocab = build_vocabulary(dfcpy.tokenized)\n",
    "reduction = ((vocab_size - vocab.B())/vocab_size)*100\n",
    "vocab_size = vocab.B()\n",
    "print(\"After stemming:\")\n",
    "print(f\"vocabulary size: {vocab_size}\")\n",
    "print(f\"reduction rate of the vocabulary size: {reduction:.2f}%\\n\")\n",
    "\n",
    "# make tokenize colum into a string with whitespace separator"
   ]
  },
  {
   "cell_type": "markdown",
   "metadata": {},
   "source": [
    "\n",
    "1. counting the number of URLs in the content\n",
    "2. counting the number of dates in the content\n",
    "3. counting the number of numeric values in the content\n",
    "4. determining the 100 more frequent words that appear in the content\n",
    "5. plot the frequency of the 10000 most frequent words (any interesting patterns?)\n",
    "6. run the analysis in point 4 and 5 both before and after removing stopwords and applying stemming: do you see any difference?\n"
   ]
  },
  {
   "cell_type": "code",
   "execution_count": 75,
   "metadata": {},
   "outputs": [],
   "source": [
    "# import pandas as pd \n",
    "\n",
    "# df = pd.read_csv(\"995,000_rows.csv\", usecols=['content', 'type', 'url', 'title', 'authors', 'domain'], engine='c', dtype = str)\n",
    "# dfcpy = df.copy()\n",
    "# dfcpy = dfcpy.dropna(subset=['content'])\n",
    "# dfcpy = dfcpy.dropna(subset=['type'])"
   ]
  },
  {
   "cell_type": "code",
   "execution_count": 76,
   "metadata": {},
   "outputs": [],
   "source": [
    "import matplotlib.pyplot as plt\n",
    "import seaborn as sns\n",
    "# plot the frequency of the top n words\n",
    "def plot_freq(fq, top_n):\n",
    "  common_words = fq.most_common(top_n)\n",
    "  # convert the list of tuples to a dictionary \n",
    "  all_freq = dict(common_words)\n",
    "  # create a plot\n",
    "  # plot most be less than 2^16 pixels in each direction\n",
    "  plt.figure(figsize = (top_n*0.1, 5))\n",
    "  plt.xticks(rotation = 90,fontsize = 5)\n",
    "  plt.yticks(range(0, max(all_freq.values())+1, 300))\n",
    "  sns.lineplot(x = list(all_freq.keys()), y = list(all_freq.values()), color = 'red')\n",
    "  sns.barplot(x = list(all_freq.keys()), y = list(all_freq.values()))\n",
    "  plt.title(f'Top {top_n} most common words')\n",
    "  plt.xlabel('Words')\n",
    "  plt.ylabel('Frequency')\n",
    "  plt.grid(axis = 'y')\n",
    "  plt.show()\n",
    "  return"
   ]
  },
  {
   "cell_type": "code",
   "execution_count": 77,
   "metadata": {},
   "outputs": [],
   "source": [
    "import matplotlib.pyplot as plt\n",
    "import seaborn as sns\n",
    "# plot the frequency of the top n words\n",
    "def plot_freq1(fq, top_n):\n",
    "  common_words = fq.most_common(top_n)\n",
    "  # convert the list of tuples to a dictionary \n",
    "  all_freq = dict(common_words)\n",
    "  # create a plot\n",
    "  plt.figure(figsize=(5, 16))\n",
    "  plt.xticks(rotation=90,)\n",
    "  sns.barplot(x = list(all_freq.values()), y = list(all_freq.keys()))\n",
    "  plt.title(f'Top {top_n} most common words')\n",
    "  plt.xlabel('Frequency')\n",
    "  plt.ylabel('Words')\n",
    "  plt.show()\n",
    "  return"
   ]
  },
  {
   "cell_type": "code",
   "execution_count": 78,
   "metadata": {},
   "outputs": [],
   "source": [
    "# ddf_update = ddf.content.apply(clean_text).compute()\n",
    "dfcpy.content = dfcpy.content.apply(clean_text)"
   ]
  },
  {
   "cell_type": "code",
   "execution_count": 79,
   "metadata": {},
   "outputs": [],
   "source": [
    "tokenizer = RegexpTokenizer(r'<[\\w]+>|[\\w]+')\n",
    "dfcpy[\"tokenized\"] = dfcpy.content.apply(tokenizer.tokenize)\n"
   ]
  },
  {
   "cell_type": "code",
   "execution_count": 80,
   "metadata": {},
   "outputs": [],
   "source": [
    "dfcpy.tokenized = dfcpy.tokenized.apply(rmv_stopwords)"
   ]
  },
  {
   "cell_type": "code",
   "execution_count": 81,
   "metadata": {},
   "outputs": [],
   "source": [
    "dfcpy.tokenized = dfcpy.tokenized.apply(stem_tokens)"
   ]
  },
  {
   "cell_type": "code",
   "execution_count": 82,
   "metadata": {},
   "outputs": [],
   "source": [
    "vocab = build_vocabulary(dfcpy.tokenized)"
   ]
  },
  {
   "cell_type": "code",
   "execution_count": 91,
   "metadata": {},
   "outputs": [
    {
     "name": "stdout",
     "output_type": "stream",
     "text": [
      "Number of URLs in the content: 243\n",
      "Number of dates in the content: 103\n",
      "Number of numerics in the content: 2194\n"
     ]
    },
    {
     "data": {
      "image/png": "[encoded data removed]",
      "text/plain": [
       "<Figure size 1000x500 with 1 Axes>"
      ]
     },
     "metadata": {},
     "output_type": "display_data"
    }
   ],
   "source": [
    "# make tokenize colum into a string with whitespace separator\n",
    "dfcpy.tokenized = dfcpy.tokenized.apply(lambda x: ' '.join(x))\n",
    "dfcpy.to_csv('cleaned_news_sample.csv', index=False)\n",
    "url_freq = vocab.get(\"<url>\",0)\n",
    "date_freq = vocab.get(\"<date>\",0)\n",
    "num_freq = vocab.get(\"<num>\",0)\n",
    "print(f\"Number of URLs in the content: {url_freq}\")\n",
    "print(f\"Number of dates in the content: {date_freq}\")\n",
    "print(f\"Number of numerics in the content: {num_freq}\")\n",
    "plot_freq(vocab, 100)\n"
   ]
  },
  {
   "cell_type": "markdown",
   "metadata": {},
   "source": [
    "# Task 4"
   ]
  },
  {
   "cell_type": "code",
   "execution_count": 84,
   "metadata": {},
   "outputs": [
    {
     "name": "stdout",
     "output_type": "stream",
     "text": [
      "Training Set:\n",
      "86     past <num> month other repeatedli warn isi pos...\n",
      "175    trend global connect enterpris market <num> an...\n",
      "124    <num> principl govern success peopl headlin bi...\n",
      "120    who poster talk headlin bitcoin blockchain sea...\n",
      "110    son god goe forth war reader think stori fact ...\n",
      "Name: tokenized, dtype: object\n",
      "\n",
      "Validation Set:\n",
      "166    fed seiz <cur> <num> million bitcoin alleg sil...\n",
      "165    obama lawless presid us histori titl bush head...\n",
      "131    easili understand differ day christ day lord e...\n",
      "113    play hitler card headlin bitcoin blockchain se...\n",
      "37     greg hunter big bank big troubl syrianorth kor...\n",
      "Name: tokenized, dtype: object\n",
      "\n",
      "Test Set:\n",
      "149    hubbl captur incred rare imag explod star read...\n",
      "239    disturb sugar daddysugar babi relationship don...\n",
      "160    worldwid laser technolog market analysi report...\n",
      "89     interview princ harri septemb former presid ba...\n",
      "80     richmond fed suffer biggest <num> month drop s...\n",
      "Name: tokenized, dtype: object\n"
     ]
    },
    {
     "data": {
      "image/png": "[encoded data removed]",
      "text/plain": [
       "<Figure size 640x480 with 1 Axes>"
      ]
     },
     "metadata": {},
     "output_type": "display_data"
    }
   ],
   "source": [
    "from sklearn.model_selection import train_test_split\n",
    "\n",
    "df = pd.read_csv('cleaned_news_sample.csv')\n",
    "dfcpy = df.copy()\n",
    "\n",
    "\n",
    "\n",
    "dfcpy['fake'] = dfcpy['type'].map({'fake': 1, 'conspiracy': 1, 'junksci': 1, 'clickbait': 0, 'political': 0, 'reliable': 0})\n",
    "dfcpy = dfcpy.dropna(subset=['fake'])\n",
    "dfcpy['fake'] = dfcpy['fake'].astype(int)\n",
    "\n",
    "X = dfcpy['tokenized']\n",
    "y = dfcpy['fake']\n",
    "\n",
    "train_ratio = 0.80\n",
    "validation_ratio = 0.10\n",
    "test_ratio = 0.10\n",
    "\n",
    "x_train, x_test, y_train, y_test = train_test_split(X, y, test_size = 1 - train_ratio, random_state = 42) \n",
    "x_val, x_test, y_val, y_test = train_test_split(x_test, y_test, test_size= test_ratio / (test_ratio + validation_ratio), random_state = 42)\n",
    "\n",
    "print(\"Training Set:\")\n",
    "print(x_train.head())\n",
    "\n",
    "print(\"\\nValidation Set:\")\n",
    "print(x_val.head())\n",
    "\n",
    "print(\"\\nTest Set:\")\n",
    "print(x_test.head())\n",
    "\n",
    "import matplotlib.pyplot as plt\n",
    "# Omit certain article types\n",
    "\n",
    "# add a column for grouped type, fake or reliable\n",
    "\n",
    "# Examine the percentage distribution of 'reliable' vs. 'fake' articles\n",
    "grouped_type = dfcpy['fake'].value_counts()\n",
    "grouped_type = grouped_type / grouped_type.sum() * 100\n",
    "\n",
    "# make a bar plot with percentages on bars\n",
    "plt.bar([0, 1], grouped_type, tick_label=['Fake', 'Reliable'], color=['red', 'blue'])\n",
    "plt.text(0, grouped_type[1], f'{grouped_type[1]:.2f}%', ha='center', va='bottom')\n",
    "plt.text(1, grouped_type[0], f'{grouped_type[0]:.2f}%', ha='center', va='bottom')\n",
    "plt.xlabel('Article Type')\n",
    "plt.ylabel('Percentage')\n",
    "plt.title('Percentage Distribution of Reliable vs. Fake Articles')\n",
    "plt.show()\n",
    "\n"
   ]
  },
  {
   "cell_type": "markdown",
   "metadata": {},
   "source": [
    "# Part 2: A simple model"
   ]
  },
  {
   "cell_type": "code",
   "execution_count": 85,
   "metadata": {},
   "outputs": [
    {
     "name": "stdout",
     "output_type": "stream",
     "text": [
      "Accuracy: 0.8181818181818182\n",
      "Recall: 1.0\n",
      "Precision: 0.8181818181818182\n",
      "F1: 0.9\n",
      "[[18  0]\n",
      " [ 4  0]]\n",
      "              precision    recall  f1-score   support\n",
      "\n",
      "        fake       0.00      0.00      0.00         4\n",
      "        real       0.82      1.00      0.90        18\n",
      "\n",
      "    accuracy                           0.82        22\n",
      "   macro avg       0.41      0.50      0.45        22\n",
      "weighted avg       0.67      0.82      0.74        22\n",
      "\n"
     ]
    },
    {
     "data": {
      "image/png": "[encoded data removed]",
      "text/plain": [
       "<Figure size 640x480 with 2 Axes>"
      ]
     },
     "metadata": {},
     "output_type": "display_data"
    }
   ],
   "source": [
    "import pandas as pd\n",
    "# from sklearn.model_selection import train_test_split\n",
    "from sklearn.linear_model import LogisticRegression\n",
    "from sklearn.feature_extraction.text import TfidfVectorizer\n",
    "import sklearn.metrics as metrics\n",
    "\n",
    "# give each row a true/false column depending on if the type is fake or not using map\n",
    "\n",
    "\n",
    "vectorizer = TfidfVectorizer()\n",
    "X_train_vectorized = vectorizer.fit_transform(x_train)\n",
    "X_test_vectorized = vectorizer.transform(x_test)\n",
    "x_val_vectorized = vectorizer.transform(x_val)\n",
    "\n",
    "model = LogisticRegression()\n",
    "model.fit(X_train_vectorized, y_train)\n",
    "y_pred = model.predict(x_val_vectorized)\n",
    "# score the model\n",
    "\n",
    "accuracy_score = metrics.accuracy_score(y_val, y_pred)\n",
    "recall_score = metrics.recall_score(y_val, y_pred, average='binary', zero_division=0, pos_label=1)\n",
    "precision_score = metrics.precision_score(y_val, y_pred, average='binary', zero_division=0, pos_label=1)\n",
    "f1_score = metrics.f1_score(y_val, y_pred, average='binary', zero_division=0, pos_label=1)\n",
    "\n",
    "print(f\"Accuracy: {accuracy_score}\")\n",
    "print(f\"Recall: {recall_score}\")\n",
    "print(f\"Precision: {precision_score}\")  \n",
    "print(f\"F1: {f1_score}\")\n",
    "\n",
    "# confusion matrix\n",
    "confusion_matrix = metrics.confusion_matrix(y_val, y_pred, labels=[1, 0])\n",
    "print(confusion_matrix)\n",
    "\n",
    "sns.heatmap(confusion_matrix, annot=True, fmt='g', cmap='Blues')\n",
    "\n",
    "# classification report\n",
    "classification_report = metrics.classification_report(y_val, y_pred, target_names = ['fake', 'real'], zero_division=0)\n",
    "print(classification_report)\n"
   ]
  },
  {
   "cell_type": "markdown",
   "metadata": {},
   "source": [
    "# Part 3: Advanced model"
   ]
  },
  {
   "cell_type": "markdown",
   "metadata": {},
   "source": [
    "Advanced:\n",
    "- TF-IDF weights\n",
    "- hyperparameters\n",
    "- cross validation\n",
    "- support vector machhine\n",
    "\n",
    "After: \n",
    "- nerual network"
   ]
  },
  {
   "cell_type": "code",
   "execution_count": 86,
   "metadata": {},
   "outputs": [
    {
     "name": "stdout",
     "output_type": "stream",
     "text": [
      "Best parameters for the linear model: {'alpha': 0.1, 'l1_ratio': 0.3, 'loss': 'hinge', 'penalty': 'elasticnet'}\n",
      "Accuracy: 0.8181818181818182\n",
      "Recall: 1.0\n",
      "Precision: 0.8181818181818182\n",
      "F1: 0.9\n",
      "Best parameters for the SVM model: {'C': 0.1, 'loss': 'hinge', 'penalty': 'l2', 'tol': 0.001}\n",
      "Accuracy: 0.8636363636363636\n",
      "Recall: 1.0\n",
      "Precision: 0.8571428571428571\n",
      "F1: 0.923076923076923\n"
     ]
    }
   ],
   "source": [
    "from sklearn.model_selection import cross_validate\n",
    "import sklearn.svm as svm\n",
    "import sklearn.linear_model as lm\n",
    "from sklearn.preprocessing import StandardScaler\n",
    "from sklearn.pipeline import make_pipeline\n",
    "from sklearn.model_selection import cross_val_score\n",
    "from sklearn.model_selection import GridSearchCV\n",
    "# make supoprt vector machine model using TF-IDF weighted word vectors, \n",
    "vectorizer = TfidfVectorizer(use_idf=True, smooth_idf=True, norm='l2')\n",
    "X_train_vectorized = vectorizer.fit_transform(x_train)\n",
    "X_test_vectorized = vectorizer.transform(x_test)\n",
    "x_val_vectorized = vectorizer.transform(x_val)\n",
    "\n",
    "scaler = StandardScaler(with_mean=False)\n",
    "X_train_vectorized_scaled = scaler.fit_transform(X_train_vectorized)\n",
    "# create a pipeline\n",
    "\n",
    "# parameters we want to test for the lm model\n",
    "losses = list(['hinge', 'squared_hinge', 'perceptron'])\n",
    "penalties = list(['l1', 'l2', 'elasticnet'])\n",
    "alphas = list([0.1, 1, 10, 100, 1000])\n",
    "l1_ratios = list([0.1, 0.3, 0.5, 0.7, 0.9])\n",
    "param_grid_lm = dict(loss=losses,penalty=penalties, alpha=alphas, l1_ratio=l1_ratios)\n",
    "\n",
    "\n",
    "model_sgdc = lm.SGDClassifier(random_state=42)\n",
    "# model_sgdc.fit(X_train_vectorized_scaled, y_train)\n",
    "\n",
    "# search for the best parameters\n",
    "grid_lm = GridSearchCV(model_sgdc, param_grid_lm, cv=2, n_jobs=-1)\n",
    "grid_lm.fit(X_train_vectorized_scaled, y_train)\n",
    "\n",
    "print(f\"Best parameters for the linear model: {grid_lm.best_params_}\")\n",
    "\n",
    "lm_using_best_params = lm.SGDClassifier(random_state=42, loss=grid_lm.best_params_['loss'], penalty=grid_lm.best_params_['penalty'], alpha=grid_lm.best_params_['alpha'], l1_ratio=grid_lm.best_params_['l1_ratio'])\n",
    "lm_using_best_params.fit(X_train_vectorized_scaled, y_train)\n",
    "y_pred = lm_using_best_params.predict(x_val_vectorized)\n",
    "\n",
    "\n",
    "accuracy_score = metrics.accuracy_score(y_val, y_pred)\n",
    "recall_score = metrics.recall_score(y_val, y_pred, average='binary', zero_division=0, pos_label=1)\n",
    "precision_score = metrics.precision_score(y_val, y_pred, average='binary', zero_division=0, pos_label=1)\n",
    "f1_score = metrics.f1_score(y_val, y_pred, average='binary', zero_division=0, pos_label=1)\n",
    "\n",
    "\n",
    "print(f\"Accuracy: {accuracy_score}\")\n",
    "print(f\"Recall: {recall_score}\")\n",
    "print(f\"Precision: {precision_score}\")\n",
    "print(f\"F1: {f1_score}\")\n",
    "\n",
    "\n",
    "# parameters we want to test for the liner SVC model\n",
    "penalties = list(['l2'])\n",
    "losses = list(['hinge', 'squared_hinge'])\n",
    "tol = list([1e-3, 1e-4])\n",
    "C = list([0.1, 1, 10, 100, 1000])\n",
    "param_grid_svm = dict(penalty=penalties, loss=losses, tol=tol, C=C)\n",
    "\n",
    "model_svm = svm.LinearSVC(dual=True, max_iter=10000, random_state=42)\n",
    "\n",
    "model_svm.fit(X_train_vectorized_scaled, y_train)\n",
    "\n",
    "grid_svm = GridSearchCV(model_svm, param_grid_svm, cv=2, n_jobs=-1, scoring='accuracy')\n",
    "grid_svm.fit(X_train_vectorized_scaled, y_train)\n",
    "print(f\"Best parameters for the SVM model: {grid_svm.best_params_}\")\n",
    "\n",
    "\n",
    "svm_using_best_params = svm.LinearSVC(random_state=42,dual=True, max_iter=10000, penalty=grid_svm.best_params_['penalty'], loss=grid_svm.best_params_['loss'], tol=grid_svm.best_params_['tol'], C=grid_svm.best_params_['C'])\n",
    "svm_using_best_params.fit(X_train_vectorized_scaled, y_train)\n",
    "y_pred = svm_using_best_params.predict(x_val_vectorized)\n",
    "\n",
    "\n",
    "accuracy_score = metrics.accuracy_score(y_val, y_pred)\n",
    "recall_score = metrics.recall_score(y_val, y_pred, average='binary', zero_division=0, pos_label=1)\n",
    "precision_score = metrics.precision_score(y_val, y_pred, average='binary', zero_division=0, pos_label=1)\n",
    "f1_score = metrics.f1_score(y_val, y_pred, average='binary', zero_division=0, pos_label=1)\n",
    "\n",
    "\n",
    "print(f\"Accuracy: {accuracy_score}\")\n",
    "print(f\"Recall: {recall_score}\")\n",
    "print(f\"Precision: {precision_score}\")\n",
    "print(f\"F1: {f1_score}\")"
   ]
  }
 ],
 "metadata": {
  "kernelspec": {
   "display_name": "my_enviroment",
   "language": "python",
   "name": "python3"
  },
  "language_info": {
   "codemirror_mode": {
    "name": "ipython",
    "version": 3
   },
   "file_extension": ".py",
   "mimetype": "text/x-python",
   "name": "python",
   "nbconvert_exporter": "python",
   "pygments_lexer": "ipython3",
   "version": "3.11.7"
  }
 },
 "nbformat": 4,
 "nbformat_minor": 2
}
